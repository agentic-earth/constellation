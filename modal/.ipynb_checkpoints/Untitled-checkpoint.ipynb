{
 "cells": [
  {
   "cell_type": "code",
   "execution_count": null,
   "id": "11fb4344-6ae2-421c-80b4-63eda0e17b71",
   "metadata": {},
   "outputs": [],
   "source": [
    "from transformers import AutoModelForObjectDetection, AutoImageProcessor\n",
    "import torch\n",
    "import cv2\n",
    "\n",
    "image_path=\"\"\n",
    "image = cv2.imread(image_path)\n",
    "\n",
    "device = torch.device(\"cuda\" if torch.cuda.is_available() else \"cpu\")\n",
    "\n",
    "model = AutoModelForObjectDetection.from_pretrained(\"Yifeng-Liu/rt-detr-finetuned-for-satellite-image-roofs-detection\")\n",
    "image_processor = AutoImageProcessor.from_pretrained(\"Yifeng-Liu/rt-detr-finetuned-for-satellite-image-roofs-detection\")\n",
    "\n",
    "\n",
    "CONFIDENCE_TRESHOLD = 0.5\n",
    "\n",
    "with torch.no_grad():\n",
    "    model.to(device)\n",
    "\n",
    "    # load image and predict\n",
    "    inputs = image_processor(images=image, return_tensors='pt').to(device)\n",
    "    outputs = model(**inputs)\n",
    "\n",
    "    # post-process\n",
    "    target_sizes = torch.tensor([image.shape[:2]]).to(device)\n",
    "    results = image_processor.post_process_object_detection(\n",
    "        outputs=outputs,\n",
    "        threshold=CONFIDENCE_TRESHOLD,\n",
    "        target_sizes=target_sizes\n",
    "    )[0]\n"
   ]
  },
  {
   "cell_type": "code",
   "execution_count": 1,
   "id": "4fa1d7be-f074-464b-915b-fa8a7f8bfa8f",
   "metadata": {},
   "outputs": [
    {
     "name": "stdout",
     "output_type": "stream",
     "text": [
      "Looking in indexes: https://pypi.org/simple, https://pypi.ngc.nvidia.com\n",
      "\u001b[31mERROR: Could not find a version that satisfies the requirement cv2 (from versions: none)\u001b[0m\u001b[31m\n",
      "\u001b[0m\u001b[31mERROR: No matching distribution found for cv2\u001b[0m\u001b[31m\n",
      "\u001b[0mNote: you may need to restart the kernel to use updated packages.\n"
     ]
    }
   ],
   "source": [
    "pip install cv2"
   ]
  },
  {
   "cell_type": "code",
   "execution_count": null,
   "id": "5fd71eb3-dc9c-4ee8-b6ce-c7c23aca5e8f",
   "metadata": {},
   "outputs": [],
   "source": []
  }
 ],
 "metadata": {
  "kernelspec": {
   "display_name": "Python 3 (ipykernel)",
   "language": "python",
   "name": "python3"
  },
  "language_info": {
   "codemirror_mode": {
    "name": "ipython",
    "version": 3
   },
   "file_extension": ".py",
   "mimetype": "text/x-python",
   "name": "python",
   "nbconvert_exporter": "python",
   "pygments_lexer": "ipython3",
   "version": "3.12.5"
  }
 },
 "nbformat": 4,
 "nbformat_minor": 5
}
